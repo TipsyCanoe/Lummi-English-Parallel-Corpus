{
 "cells": [
  {
   "cell_type": "code",
   "execution_count": 25,
   "id": "06d2ae11",
   "metadata": {},
   "outputs": [],
   "source": [
    "import pandas as pd"
   ]
  },
  {
   "cell_type": "code",
   "execution_count": 26,
   "id": "43c62e4c",
   "metadata": {},
   "outputs": [],
   "source": [
    "lekwen = pd.read_csv('../raw_data/lekwungen_words.csv')"
   ]
  },
  {
   "cell_type": "code",
   "execution_count": 27,
   "id": "fa62f362",
   "metadata": {},
   "outputs": [
    {
     "data": {
      "text/html": [
       "<div>\n",
       "<style scoped>\n",
       "    .dataframe tbody tr th:only-of-type {\n",
       "        vertical-align: middle;\n",
       "    }\n",
       "\n",
       "    .dataframe tbody tr th {\n",
       "        vertical-align: top;\n",
       "    }\n",
       "\n",
       "    .dataframe thead th {\n",
       "        text-align: right;\n",
       "    }\n",
       "</style>\n",
       "<table border=\"1\" class=\"dataframe\">\n",
       "  <thead>\n",
       "    <tr style=\"text-align: right;\">\n",
       "      <th></th>\n",
       "      <th>Lekwungen Word</th>\n",
       "      <th>English Translation</th>\n",
       "    </tr>\n",
       "  </thead>\n",
       "  <tbody>\n",
       "    <tr>\n",
       "      <th>0</th>\n",
       "      <td>ʔaʔ</td>\n",
       "      <td>if</td>\n",
       "    </tr>\n",
       "    <tr>\n",
       "      <th>1</th>\n",
       "      <td>ʔaʔáx̣ʷ</td>\n",
       "      <td>going to; going there</td>\n",
       "    </tr>\n",
       "    <tr>\n",
       "      <th>2</th>\n",
       "      <td>ʔal̓</td>\n",
       "      <td>completed action; sometimes translated as \"just\"</td>\n",
       "    </tr>\n",
       "    <tr>\n",
       "      <th>3</th>\n",
       "      <td>ʔal̓ələɬ</td>\n",
       "      <td>ride aboard (such as a boat)</td>\n",
       "    </tr>\n",
       "    <tr>\n",
       "      <th>4</th>\n",
       "      <td>ʔanáɬ</td>\n",
       "      <td>yes; give permission; to assent</td>\n",
       "    </tr>\n",
       "    <tr>\n",
       "      <th>...</th>\n",
       "      <td>...</td>\n",
       "      <td>...</td>\n",
       "    </tr>\n",
       "    <tr>\n",
       "      <th>2528</th>\n",
       "      <td>əntén</td>\n",
       "      <td>mother (your mother)</td>\n",
       "    </tr>\n",
       "    <tr>\n",
       "      <th>2529</th>\n",
       "      <td>əsƛ̓áƛ̓əm</td>\n",
       "      <td>correct; a matter that is fine, acceptable, sa...</td>\n",
       "    </tr>\n",
       "    <tr>\n",
       "      <th>2530</th>\n",
       "      <td>əsq̓épəɬ kʷsə qʷəlnə́kʷəɬtə</td>\n",
       "      <td>speaking together; we are speaking together</td>\n",
       "    </tr>\n",
       "    <tr>\n",
       "      <th>2531</th>\n",
       "      <td>əsxʷəley̓xʷiʔ</td>\n",
       "      <td>they are ambitious; eager; willing; ready</td>\n",
       "    </tr>\n",
       "    <tr>\n",
       "      <th>2532</th>\n",
       "      <td>əsə́ɬqʷ</td>\n",
       "      <td>hole; pit</td>\n",
       "    </tr>\n",
       "  </tbody>\n",
       "</table>\n",
       "<p>2533 rows × 2 columns</p>\n",
       "</div>"
      ],
      "text/plain": [
       "                   Lekwungen Word  \\\n",
       "0                             ʔaʔ   \n",
       "1                         ʔaʔáx̣ʷ   \n",
       "2                            ʔal̓   \n",
       "3                        ʔal̓ələɬ   \n",
       "4                           ʔanáɬ   \n",
       "...                           ...   \n",
       "2528                        əntén   \n",
       "2529                    əsƛ̓áƛ̓əm   \n",
       "2530  əsq̓épəɬ kʷsə qʷəlnə́kʷəɬtə   \n",
       "2531                əsxʷəley̓xʷiʔ   \n",
       "2532                      əsə́ɬqʷ   \n",
       "\n",
       "                                    English Translation  \n",
       "0                                                    if  \n",
       "1                                 going to; going there  \n",
       "2      completed action; sometimes translated as \"just\"  \n",
       "3                          ride aboard (such as a boat)  \n",
       "4                       yes; give permission; to assent  \n",
       "...                                                 ...  \n",
       "2528                               mother (your mother)  \n",
       "2529  correct; a matter that is fine, acceptable, sa...  \n",
       "2530        speaking together; we are speaking together  \n",
       "2531          they are ambitious; eager; willing; ready  \n",
       "2532                                          hole; pit  \n",
       "\n",
       "[2533 rows x 2 columns]"
      ]
     },
     "execution_count": 27,
     "metadata": {},
     "output_type": "execute_result"
    }
   ],
   "source": [
    "lekwen"
   ]
  },
  {
   "cell_type": "code",
   "execution_count": null,
   "id": "4fe72c9e",
   "metadata": {},
   "outputs": [],
   "source": [
    "lum = pd.read_csv('../processed_data/Lummi_vocab.csv')\n"
   ]
  },
  {
   "cell_type": "code",
   "execution_count": 29,
   "id": "aea45831",
   "metadata": {},
   "outputs": [
    {
     "data": {
      "text/html": [
       "<div>\n",
       "<style scoped>\n",
       "    .dataframe tbody tr th:only-of-type {\n",
       "        vertical-align: middle;\n",
       "    }\n",
       "\n",
       "    .dataframe tbody tr th {\n",
       "        vertical-align: top;\n",
       "    }\n",
       "\n",
       "    .dataframe thead th {\n",
       "        text-align: right;\n",
       "    }\n",
       "</style>\n",
       "<table border=\"1\" class=\"dataframe\">\n",
       "  <thead>\n",
       "    <tr style=\"text-align: right;\">\n",
       "      <th></th>\n",
       "      <th>english</th>\n",
       "      <th>lummi</th>\n",
       "    </tr>\n",
       "  </thead>\n",
       "  <tbody>\n",
       "    <tr>\n",
       "      <th>0</th>\n",
       "      <td>(_Mergus Serrator_)</td>\n",
       "      <td>sküm-mätsh</td>\n",
       "    </tr>\n",
       "    <tr>\n",
       "      <th>1</th>\n",
       "      <td>(_T. Migrat._)</td>\n",
       "      <td>tsel-tcha</td>\n",
       "    </tr>\n",
       "    <tr>\n",
       "      <th>2</th>\n",
       "      <td>(_the face_)</td>\n",
       "      <td>tsük-wá-süng;</td>\n",
       "    </tr>\n",
       "    <tr>\n",
       "      <th>3</th>\n",
       "      <td>(_clothes_)</td>\n",
       "      <td>tsük-ül-kwo′-tüng;</td>\n",
       "    </tr>\n",
       "    <tr>\n",
       "      <th>4</th>\n",
       "      <td>(_the hands_)</td>\n",
       "      <td>chékw-sim</td>\n",
       "    </tr>\n",
       "    <tr>\n",
       "      <th>...</th>\n",
       "      <td>...</td>\n",
       "      <td>...</td>\n",
       "    </tr>\n",
       "    <tr>\n",
       "      <th>1369</th>\n",
       "      <td>Your</td>\n",
       "      <td>En</td>\n",
       "    </tr>\n",
       "    <tr>\n",
       "      <th>1370</th>\n",
       "      <td>Your / You</td>\n",
       "      <td>En</td>\n",
       "    </tr>\n",
       "    <tr>\n",
       "      <th>1371</th>\n",
       "      <td>Your house</td>\n",
       "      <td>tsüng a′nüng hä-la</td>\n",
       "    </tr>\n",
       "    <tr>\n",
       "      <th>1372</th>\n",
       "      <td>yó-mutsh</td>\n",
       "      <td>_S. quinnat_, RICH.;</td>\n",
       "    </tr>\n",
       "    <tr>\n",
       "      <th>1373</th>\n",
       "      <td>Yūtl-ma</td>\n",
       "      <td>_or_ Shwâ-mat-wun, _the spirit that presides o...</td>\n",
       "    </tr>\n",
       "  </tbody>\n",
       "</table>\n",
       "<p>1374 rows × 2 columns</p>\n",
       "</div>"
      ],
      "text/plain": [
       "                  english                                              lummi\n",
       "0     (_Mergus Serrator_)                                         sküm-mätsh\n",
       "1          (_T. Migrat._)                                          tsel-tcha\n",
       "2            (_the face_)                                      tsük-wá-süng;\n",
       "3             (_clothes_)                                 tsük-ül-kwo′-tüng;\n",
       "4           (_the hands_)                                          chékw-sim\n",
       "...                   ...                                                ...\n",
       "1369                 Your                                                 En\n",
       "1370           Your / You                                                 En\n",
       "1371           Your house                                 tsüng a′nüng hä-la\n",
       "1372             yó-mutsh                               _S. quinnat_, RICH.;\n",
       "1373              Yūtl-ma  _or_ Shwâ-mat-wun, _the spirit that presides o...\n",
       "\n",
       "[1374 rows x 2 columns]"
      ]
     },
     "execution_count": 29,
     "metadata": {},
     "output_type": "execute_result"
    }
   ],
   "source": [
    "lum"
   ]
  },
  {
   "cell_type": "code",
   "execution_count": 30,
   "id": "e7c003cc",
   "metadata": {},
   "outputs": [],
   "source": [
    "def search_word(word):\n",
    "    \"\"\"\n",
    "    Search for a word in the lekwungen dataset.\n",
    "    Handles regex special characters in the word.\n",
    "    \"\"\"\n",
    "    import re\n",
    "    # Escape special regex characters in the word\n",
    "    escaped_word = re.escape(word.lower())\n",
    "    \n",
    "    # Use the escaped word in the contains method\n",
    "    result = lekwen[lekwen['English Translation'].str.lower().str.contains(escaped_word, regex=True)]\n",
    "    return result  # Always return a DataFrame (empty if no match)"
   ]
  },
  {
   "cell_type": "code",
   "execution_count": 31,
   "id": "479fe164",
   "metadata": {},
   "outputs": [],
   "source": [
    "word_dictionary = {}\n",
    "for i in lum['english'].values:\n",
    "    i = i.replace(\"_\", \"\")\n",
    "    i = i.replace(\"(\", \"\")\n",
    "    i = i.replace(\")\", \"\")\n",
    "    i = i.lower()\n",
    "    word_list = i.split()\n",
    "\n",
    "    for x in word_list:\n",
    "        y = search_word(x)\n",
    "        if not y.empty:  # Only add if we found matches\n",
    "            word_dictionary[x] = [{\n",
    "                \"English\": eng, \n",
    "                \"Lekwungen\": lek\n",
    "            } for eng, lek in zip(y[\"English Translation\"].values, y[\"Lekwungen Word\"].values)]"
   ]
  },
  {
   "cell_type": "code",
   "execution_count": 32,
   "id": "14f92aa8",
   "metadata": {},
   "outputs": [
    {
     "name": "stdout",
     "output_type": "stream",
     "text": [
      "776\n"
     ]
    }
   ],
   "source": [
    "print(len(word_dictionary.keys()))"
   ]
  },
  {
   "cell_type": "code",
   "execution_count": 33,
   "id": "0df51fb9",
   "metadata": {},
   "outputs": [
    {
     "name": "stdout",
     "output_type": "stream",
     "text": [
      "[{'English': '2. non-specific time or place in the future or past.', 'Lekwungen': '1. Indefinate article. Indicates incomplete, indefinite, discontinued, or pretended action, person, object, or amount. May occur in question sentences or when talking about unmarried people, deceased family, or about a'}, {'English': 'Placename: This was the name for what is now Secretary Island near entrance to Sooke Inlet.', 'Lekwungen': 'čə́kʷən'}, {'English': \"char; blacken; to char; turn to charcoal; blacken with charcoal; black face paint. Paint made from charred devil's club stalks\", 'Lekwungen': 'č̓íc̓ət'}, {'English': 'I love/want/need/like (lit. my love/etc.)', 'Lekwungen': 'nəsƛ̓iʔ'}, {'English': 'mat, rug, floor mat. Cedar bark, tule, and rush mats covered temporary summer house frames, sleeping benches, and stored food; were sat on during meals (Barnett 1955:121-2; Stern 1934:92)', 'Lekwungen': 'psnákʷən'}, {'English': 'September (lit. white month)', 'Lekwungen': 'pəq̓lénəxʷ'}, {'English': 'grill, roast. Smelt, flounder, skate fins, dried salmon, mussels, and fern roots were grilled on sticks over an open fire<br />(Gunther 1927:209).<br />', 'Lekwungen': 'q̓ʷə́lət'}, {'English': 'club, war club. A paddle-shaped club of stone, bone or heavy wood was the principal weapon for close combat. Each was about one foot long and attached to the wrist with a short thong (Barnett 1955:269; Gunther 1927:268).', 'Lekwungen': 'sč̓ət'}, {'English': 'bat (lit. arms hanging loose)', 'Lekwungen': 'sɬəlp̓éləx̣ən'}, {'English': 'we love/want/need/like (lit. our love/etc.)', 'Lekwungen': 'sƛ̓íʔɬtə'}, {'English': 'clam (large, butter clam); (Saxidomus giganteus. Considered the most edible of clams and was eaten fresh or steamed in a stone-lined pit.)', 'Lekwungen': 'sxʷeʔem'}, {'English': '2. spring. The name, scratch refers comes from a rock behind the spring which has several scratches on it.', 'Lekwungen': '1. Placename: This is the name of small spring that runs out from the beach into the sea by the eastern side of the mouth of Becher Bay. The fishing is good here because it said the salmon come here to drink from the fresh'}, {'English': '4. village with meat. It is not certain whether this story is the reason for the name of the village all lay dying.', 'Lekwungen': '3. the name might be derived from x̣ʷay̓məɫəɫ (hwa’yumulh) \"all lying dead\". There is a story about a famine. Then some whales swam into the harbour and died. The people came down and slaughtered the whales, providing the'}, {'English': 'Placename: camp just west of Clover point.', 'Lekwungen': 'xʷəxʷačqə̓in'}, {'English': \"wand; stick with supernatural power which a shaman used in healing rituals. The wands were passed over the patient's body to draw out the source of his ailment.<br />\", 'Lekwungen': 'x̣ə́l̓tən'}, {'English': 'Placename: Means pussy willow. This is the name for the area that includes Ross Bay and Clover Point. It was said to have been too rough to land canoes here.', 'Lekwungen': 'x̣ʷəléyɬč'}]\n"
     ]
    }
   ],
   "source": [
    "print(word_dictionary[list(word_dictionary.keys())[0]])"
   ]
  }
 ],
 "metadata": {
  "kernelspec": {
   "display_name": "Python 3",
   "language": "python",
   "name": "python3"
  },
  "language_info": {
   "codemirror_mode": {
    "name": "ipython",
    "version": 3
   },
   "file_extension": ".py",
   "mimetype": "text/x-python",
   "name": "python",
   "nbconvert_exporter": "python",
   "pygments_lexer": "ipython3",
   "version": "3.10.12"
  }
 },
 "nbformat": 4,
 "nbformat_minor": 5
}
