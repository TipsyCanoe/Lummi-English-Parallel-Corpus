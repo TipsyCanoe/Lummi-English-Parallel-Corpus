{
 "cells": [
  {
   "cell_type": "code",
   "execution_count": 4,
   "id": "06d2ae11",
   "metadata": {},
   "outputs": [],
   "source": [
    "import pandas as pd"
   ]
  },
  {
   "cell_type": "code",
   "execution_count": 5,
   "id": "43c62e4c",
   "metadata": {},
   "outputs": [],
   "source": [
    "lekwen = pd.read_csv('../raw_data/lekwungen_words.csv')"
   ]
  },
  {
   "cell_type": "code",
   "execution_count": 6,
   "id": "fa62f362",
   "metadata": {},
   "outputs": [
    {
     "data": {
      "text/html": [
       "<div>\n",
       "<style scoped>\n",
       "    .dataframe tbody tr th:only-of-type {\n",
       "        vertical-align: middle;\n",
       "    }\n",
       "\n",
       "    .dataframe tbody tr th {\n",
       "        vertical-align: top;\n",
       "    }\n",
       "\n",
       "    .dataframe thead th {\n",
       "        text-align: right;\n",
       "    }\n",
       "</style>\n",
       "<table border=\"1\" class=\"dataframe\">\n",
       "  <thead>\n",
       "    <tr style=\"text-align: right;\">\n",
       "      <th></th>\n",
       "      <th>Lekwungen Word</th>\n",
       "      <th>English Translation</th>\n",
       "    </tr>\n",
       "  </thead>\n",
       "  <tbody>\n",
       "    <tr>\n",
       "      <th>0</th>\n",
       "      <td>ʔaʔ</td>\n",
       "      <td>if</td>\n",
       "    </tr>\n",
       "    <tr>\n",
       "      <th>1</th>\n",
       "      <td>ʔaʔáx̣ʷ</td>\n",
       "      <td>going to; going there</td>\n",
       "    </tr>\n",
       "    <tr>\n",
       "      <th>2</th>\n",
       "      <td>ʔal̓</td>\n",
       "      <td>completed action; sometimes translated as \"just\"</td>\n",
       "    </tr>\n",
       "    <tr>\n",
       "      <th>3</th>\n",
       "      <td>ʔal̓ələɬ</td>\n",
       "      <td>ride aboard (such as a boat)</td>\n",
       "    </tr>\n",
       "    <tr>\n",
       "      <th>4</th>\n",
       "      <td>ʔanáɬ</td>\n",
       "      <td>yes; give permission; to assent</td>\n",
       "    </tr>\n",
       "    <tr>\n",
       "      <th>...</th>\n",
       "      <td>...</td>\n",
       "      <td>...</td>\n",
       "    </tr>\n",
       "    <tr>\n",
       "      <th>2528</th>\n",
       "      <td>əntén</td>\n",
       "      <td>mother (your mother)</td>\n",
       "    </tr>\n",
       "    <tr>\n",
       "      <th>2529</th>\n",
       "      <td>əsƛ̓áƛ̓əm</td>\n",
       "      <td>correct; a matter that is fine, acceptable, sa...</td>\n",
       "    </tr>\n",
       "    <tr>\n",
       "      <th>2530</th>\n",
       "      <td>əsq̓épəɬ kʷsə qʷəlnə́kʷəɬtə</td>\n",
       "      <td>speaking together; we are speaking together</td>\n",
       "    </tr>\n",
       "    <tr>\n",
       "      <th>2531</th>\n",
       "      <td>əsxʷəley̓xʷiʔ</td>\n",
       "      <td>they are ambitious; eager; willing; ready</td>\n",
       "    </tr>\n",
       "    <tr>\n",
       "      <th>2532</th>\n",
       "      <td>əsə́ɬqʷ</td>\n",
       "      <td>hole; pit</td>\n",
       "    </tr>\n",
       "  </tbody>\n",
       "</table>\n",
       "<p>2533 rows × 2 columns</p>\n",
       "</div>"
      ],
      "text/plain": [
       "                   Lekwungen Word  \\\n",
       "0                             ʔaʔ   \n",
       "1                         ʔaʔáx̣ʷ   \n",
       "2                            ʔal̓   \n",
       "3                        ʔal̓ələɬ   \n",
       "4                           ʔanáɬ   \n",
       "...                           ...   \n",
       "2528                        əntén   \n",
       "2529                    əsƛ̓áƛ̓əm   \n",
       "2530  əsq̓épəɬ kʷsə qʷəlnə́kʷəɬtə   \n",
       "2531                əsxʷəley̓xʷiʔ   \n",
       "2532                      əsə́ɬqʷ   \n",
       "\n",
       "                                    English Translation  \n",
       "0                                                    if  \n",
       "1                                 going to; going there  \n",
       "2      completed action; sometimes translated as \"just\"  \n",
       "3                          ride aboard (such as a boat)  \n",
       "4                       yes; give permission; to assent  \n",
       "...                                                 ...  \n",
       "2528                               mother (your mother)  \n",
       "2529  correct; a matter that is fine, acceptable, sa...  \n",
       "2530        speaking together; we are speaking together  \n",
       "2531          they are ambitious; eager; willing; ready  \n",
       "2532                                          hole; pit  \n",
       "\n",
       "[2533 rows x 2 columns]"
      ]
     },
     "execution_count": 6,
     "metadata": {},
     "output_type": "execute_result"
    }
   ],
   "source": [
    "lekwen"
   ]
  },
  {
   "cell_type": "code",
   "execution_count": 7,
   "id": "4fe72c9e",
   "metadata": {},
   "outputs": [],
   "source": [
    "lum = pd.read_csv('../raw_data/gutenberg_vocabulary_v1.csv')"
   ]
  },
  {
   "cell_type": "code",
   "execution_count": 8,
   "id": "aea45831",
   "metadata": {},
   "outputs": [
    {
     "data": {
      "text/html": [
       "<div>\n",
       "<style scoped>\n",
       "    .dataframe tbody tr th:only-of-type {\n",
       "        vertical-align: middle;\n",
       "    }\n",
       "\n",
       "    .dataframe tbody tr th {\n",
       "        vertical-align: top;\n",
       "    }\n",
       "\n",
       "    .dataframe thead th {\n",
       "        text-align: right;\n",
       "    }\n",
       "</style>\n",
       "<table border=\"1\" class=\"dataframe\">\n",
       "  <thead>\n",
       "    <tr style=\"text-align: right;\">\n",
       "      <th></th>\n",
       "      <th>english</th>\n",
       "      <th>lummi</th>\n",
       "    </tr>\n",
       "  </thead>\n",
       "  <tbody>\n",
       "    <tr>\n",
       "      <th>0</th>\n",
       "      <td>ABOVE</td>\n",
       "      <td>se-suk′tl</td>\n",
       "    </tr>\n",
       "    <tr>\n",
       "      <th>1</th>\n",
       "      <td>ADZE</td>\n",
       "      <td>s'chüm′mün</td>\n",
       "    </tr>\n",
       "    <tr>\n",
       "      <th>2</th>\n",
       "      <td>AFRAID</td>\n",
       "      <td>sái-sin</td>\n",
       "    </tr>\n",
       "    <tr>\n",
       "      <th>3</th>\n",
       "      <td>AFTER</td>\n",
       "      <td>il-kwâ-wüs</td>\n",
       "    </tr>\n",
       "    <tr>\n",
       "      <th>4</th>\n",
       "      <td>ALDER</td>\n",
       "      <td>skwang-l'tch</td>\n",
       "    </tr>\n",
       "    <tr>\n",
       "      <th>...</th>\n",
       "      <td>...</td>\n",
       "      <td>...</td>\n",
       "    </tr>\n",
       "    <tr>\n",
       "      <th>943</th>\n",
       "      <td>YELLOW</td>\n",
       "      <td>n's-kwül-la-wün, nük-wai</td>\n",
       "    </tr>\n",
       "    <tr>\n",
       "      <th>944</th>\n",
       "      <td>YES</td>\n",
       "      <td>a-áh;</td>\n",
       "    </tr>\n",
       "    <tr>\n",
       "      <th>945</th>\n",
       "      <td>_yes indeed</td>\n",
       "      <td>certainly_, ho′wüs, hu′üs, si-ēt</td>\n",
       "    </tr>\n",
       "    <tr>\n",
       "      <th>946</th>\n",
       "      <td>YESTERDAY</td>\n",
       "      <td>chi-lak'hl</td>\n",
       "    </tr>\n",
       "    <tr>\n",
       "      <th>947</th>\n",
       "      <td>YOUNG</td>\n",
       "      <td>s'hwé-wils</td>\n",
       "    </tr>\n",
       "  </tbody>\n",
       "</table>\n",
       "<p>948 rows × 2 columns</p>\n",
       "</div>"
      ],
      "text/plain": [
       "         english                             lummi\n",
       "0          ABOVE                         se-suk′tl\n",
       "1           ADZE                        s'chüm′mün\n",
       "2         AFRAID                           sái-sin\n",
       "3          AFTER                        il-kwâ-wüs\n",
       "4          ALDER                      skwang-l'tch\n",
       "..           ...                               ...\n",
       "943       YELLOW          n's-kwül-la-wün, nük-wai\n",
       "944          YES                             a-áh;\n",
       "945  _yes indeed  certainly_, ho′wüs, hu′üs, si-ēt\n",
       "946    YESTERDAY                        chi-lak'hl\n",
       "947        YOUNG                        s'hwé-wils\n",
       "\n",
       "[948 rows x 2 columns]"
      ]
     },
     "execution_count": 8,
     "metadata": {},
     "output_type": "execute_result"
    }
   ],
   "source": [
    "lum"
   ]
  },
  {
   "cell_type": "code",
   "execution_count": null,
   "id": "e7c003cc",
   "metadata": {},
   "outputs": [],
   "source": [
    "def search_word(word):\n",
    "    \"\"\"\n",
    "    Search for a word in the lekwungen dataset.\n",
    "    Handles regex special characters in the word.\n",
    "    \"\"\"\n",
    "    import re\n",
    "    # Escape special regex characters in the word\n",
    "    escaped_word = re.escape(word.lower())\n",
    "    \n",
    "    # Use the escaped word in the contains method\n",
    "    result = lekwen[lekwen['English Translation'].str.lower().str.contains(escaped_word, regex=True)]\n",
    "    return result  # Always return a DataFrame (empty if no match)"
   ]
  },
  {
   "cell_type": "code",
   "execution_count": 60,
   "id": "479fe164",
   "metadata": {},
   "outputs": [],
   "source": [
    "word_dictionary = {}\n",
    "for i in lum['english'].values:\n",
    "    i = i.replace(\"_\", \"\")\n",
    "    i = i.replace(\"(\", \"\")\n",
    "    i = i.replace(\")\", \"\")\n",
    "    i = i.lower()\n",
    "    word_list = i.split()\n",
    "\n",
    "    for x in word_list:\n",
    "        y = search_word(x)\n",
    "        if not y.empty:  # Only add if we found matches\n",
    "            word_dictionary[x] = [{\n",
    "                \"English\": eng, \n",
    "                \"Lekwungen\": lek\n",
    "            } for eng, lek in zip(y[\"English Translation\"].values, y[\"Lekwungen Word\"].values)]"
   ]
  },
  {
   "cell_type": "code",
   "execution_count": 63,
   "id": "14f92aa8",
   "metadata": {},
   "outputs": [
    {
     "name": "stdout",
     "output_type": "stream",
     "text": [
      "642\n"
     ]
    }
   ],
   "source": [
    "print(len(word_dictionary.keys()))"
   ]
  },
  {
   "cell_type": "code",
   "execution_count": 71,
   "id": "0df51fb9",
   "metadata": {},
   "outputs": [
    {
     "name": "stdout",
     "output_type": "stream",
     "text": [
      "[{'English': 'drip; leak from above', 'Lekwungen': 'c̓ə́q̓əŋ'}, {'English': 'God: \"big man up above\"', 'Lekwungen': 'síʔsəɬ siʔém̓'}]\n"
     ]
    }
   ],
   "source": [
    "print(word_dictionary[list(word_dictionary.keys())[0]])"
   ]
  }
 ],
 "metadata": {
  "kernelspec": {
   "display_name": "Python 3",
   "language": "python",
   "name": "python3"
  },
  "language_info": {
   "codemirror_mode": {
    "name": "ipython",
    "version": 3
   },
   "file_extension": ".py",
   "mimetype": "text/x-python",
   "name": "python",
   "nbconvert_exporter": "python",
   "pygments_lexer": "ipython3",
   "version": "3.10.11"
  }
 },
 "nbformat": 4,
 "nbformat_minor": 5
}
